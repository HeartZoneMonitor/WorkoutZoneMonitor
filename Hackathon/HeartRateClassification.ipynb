{
  "nbformat": 4,
  "nbformat_minor": 0,
  "metadata": {
    "colab": {
      "provenance": []
    },
    "kernelspec": {
      "name": "python3",
      "display_name": "Python 3"
    },
    "language_info": {
      "name": "python"
    }
  },
  "cells": [
    {
      "cell_type": "code",
      "execution_count": null,
      "metadata": {
        "colab": {
          "base_uri": "https://localhost:8080/"
        },
        "id": "7YxNevVzF8FV",
        "outputId": "549d681f-47d0-40bf-95cc-05c76db60656"
      },
      "outputs": [
        {
          "name": "stdout",
          "output_type": "stream",
          "text": [
            "Please enter your age (required). This will be used to calculate your max heart rate. 20\n",
            "Please enter the workout mode (optional). You can choose from recovery [1], endurance [2], moderate [3], sprint [4], and interval [5]. 3\n"
          ]
        }
      ],
      "source": [
        "age = int(input(\"Please enter your age (required). This will be used to calculate your max heart rate. \"))\n",
        "workout_mode = int(input(\"Please enter the workout mode (optional). You can choose from recovery [1], endurance [2], moderate [3], sprint [4], and interval [5]. \"))"
      ]
    },
    {
      "cell_type": "code",
      "source": [
        "class Range():\n",
        "  def __init__(self, workout_mode: int, max_heart_rate: int):\n",
        "    self.range = self.to_range(workout_mode, max_heart_rate)\n",
        "\n",
        "  def to_range(self, workout_mode, max_heart_rate):\n",
        "    if workout_mode == 1:\n",
        "      range = (0.5, 0.6)\n",
        "    if workout_mode == 2:\n",
        "      range = (0.6, 0.7)\n",
        "    if workout_mode == 3:\n",
        "      range = (0.7, 0.8)\n",
        "    if workout_mode == 4:\n",
        "      range = (0.8, 0.9)\n",
        "    if workout_mode == 5:\n",
        "      range = (0.9, 1)\n",
        "    return range * max_heart_rate\n",
        "\n",
        "  def is_inside(self, heart_rate) -> bool:\n",
        "    if heart_rate > self.range[0] and heart_rate <= self.range[1]: # inclusive is arbitrary\n",
        "      return True\n",
        "    return False"
      ],
      "metadata": {
        "id": "ntxA-6jqH43y"
      },
      "execution_count": null,
      "outputs": []
    },
    {
      "cell_type": "code",
      "source": [
        "def check_range(age, heart_rate, workout_mode):\n",
        "  max_heart_rate = 220 - age # bpm units\n",
        "  range = Range(workout_mode)\n",
        "  if range.is_inside(heart_rate):\n",
        "    return True\n",
        "  return False"
      ],
      "metadata": {
        "id": "aSdegEWTHaGk"
      },
      "execution_count": null,
      "outputs": []
    },
    {
      "cell_type": "code",
      "source": [
        "heart_rate = int(input(\"Enter heart rate (this will be inputted from sensors later):\"))\n",
        "check_range(age, heart_rate, workout_mode)"
      ],
      "metadata": {
        "colab": {
          "base_uri": "https://localhost:8080/"
        },
        "id": "abaG8K84Lwgb",
        "outputId": "ca370f8e-591d-4a60-9f3e-23eef0f506c0"
      },
      "execution_count": null,
      "outputs": [
        {
          "name": "stdout",
          "output_type": "stream",
          "text": [
            "Enter heart rate (this will be inputted from sensors later):65\n"
          ]
        },
        {
          "output_type": "execute_result",
          "data": {
            "text/plain": [
              "False"
            ]
          },
          "metadata": {},
          "execution_count": 9
        }
      ]
    }
  ]
}